{
  "nbformat": 4,
  "nbformat_minor": 0,
  "metadata": {
    "colab": {
      "name": "실습05.ipynb",
      "provenance": [],
      "collapsed_sections": []
    },
    "kernelspec": {
      "name": "python3",
      "display_name": "Python 3"
    },
    "language_info": {
      "name": "python"
    }
  },
  "cells": [
    {
      "cell_type": "code",
      "metadata": {
        "colab": {
          "base_uri": "https://localhost:8080/"
        },
        "id": "wvouNdZIy6PV",
        "outputId": "73bdd34c-f084-406e-944b-b1b6be0db25e"
      },
      "source": [
        "from google.colab import drive\n",
        "drive.mount('/content/drive')"
      ],
      "execution_count": 1,
      "outputs": [
        {
          "output_type": "stream",
          "name": "stdout",
          "text": [
            "Mounted at /content/drive\n"
          ]
        }
      ]
    },
    {
      "cell_type": "code",
      "metadata": {
        "colab": {
          "base_uri": "https://localhost:8080/"
        },
        "id": "PL9ebMOVzuLf",
        "outputId": "2a95175e-eb56-45c6-8fb9-62d2fded695b"
      },
      "source": [
        "import numpy as np\n",
        "import pandas as pd\n",
        "data=pd.read_csv('/content/drive/MyDrive/기계학습/admit.txt',names=['ex1','ex2','Admitted'])\n",
        "print(data)\n",
        "X=np.c_[data['ex1'],data['ex2']]#점수\n",
        "y=data['Admitted']\n",
        "m=len(data)\n",
        "print(X.shape, y.shape)"
      ],
      "execution_count": 4,
      "outputs": [
        {
          "output_type": "stream",
          "name": "stdout",
          "text": [
            "          ex1        ex2  Admitted\n",
            "0   34.623660  78.024693         0\n",
            "1   30.286711  43.894998         0\n",
            "2   35.847409  72.902198         0\n",
            "3   60.182599  86.308552         1\n",
            "4   79.032736  75.344376         1\n",
            "..        ...        ...       ...\n",
            "95  83.489163  48.380286         1\n",
            "96  42.261701  87.103851         1\n",
            "97  99.315009  68.775409         1\n",
            "98  55.340018  64.931938         1\n",
            "99  74.775893  89.529813         1\n",
            "\n",
            "[100 rows x 3 columns]\n",
            "(100, 2) (100,)\n"
          ]
        }
      ]
    },
    {
      "cell_type": "code",
      "metadata": {
        "colab": {
          "base_uri": "https://localhost:8080/"
        },
        "id": "7qofzqsQzuNz",
        "outputId": "a6f2c923-c3cc-4680-8387-feed37488d8b"
      },
      "source": [
        "pos=[]\n",
        "neg=[]\n",
        "for (i,val) in enumerate(y):\n",
        "  if val==1:\n",
        "    pos.append(i)\n",
        "  else:\n",
        "    neg.append(i)\n",
        "print(pos)\n",
        "print(neg)"
      ],
      "execution_count": 7,
      "outputs": [
        {
          "output_type": "stream",
          "name": "stdout",
          "text": [
            "[3, 4, 6, 7, 8, 9, 12, 13, 15, 16, 18, 19, 21, 24, 25, 26, 30, 31, 33, 37, 40, 42, 46, 47, 48, 49, 50, 51, 52, 56, 58, 59, 60, 66, 68, 69, 71, 72, 73, 74, 75, 76, 77, 80, 81, 82, 83, 84, 85, 87, 88, 90, 91, 93, 94, 95, 96, 97, 98, 99]\n",
            "[0, 1, 2, 5, 10, 11, 14, 17, 20, 22, 23, 27, 28, 29, 32, 34, 35, 36, 38, 39, 41, 43, 44, 45, 53, 54, 55, 57, 61, 62, 63, 64, 65, 67, 70, 78, 79, 86, 89, 92]\n"
          ]
        }
      ]
    },
    {
      "cell_type": "code",
      "metadata": {
        "colab": {
          "base_uri": "https://localhost:8080/",
          "height": 279
        },
        "id": "GuKjEDsWzuQF",
        "outputId": "afc8f464-8e40-4d32-966e-d6c52be2a7d7"
      },
      "source": [
        "import matplotlib.pyplot as plt\n",
        "plt.plot(X[pos,0].reshape(-1),X[pos,1].reshape(-1),'b+',label='Admitted')\n",
        "plt.plot(X[neg,0].reshape(-1),X[neg,1].reshape(-1),'ro',label='NOTAdmitted')\n",
        "plt.xlabel(\"Exam 1 score\")# 집크기 \n",
        "plt.ylabel(\"Exam 2 score\")#매매가\n",
        "plt.legend(loc='upper right')\n",
        "plt.show()"
      ],
      "execution_count": 13,
      "outputs": [
        {
          "output_type": "display_data",
          "data": {
            "image/png": "[encoded data removed]",
            "text/plain": [
              "<Figure size 432x288 with 1 Axes>"
            ]
          },
          "metadata": {
            "needs_background": "light"
          }
        }
      ]
    },
    {
      "cell_type": "code",
      "metadata": {
        "colab": {
          "base_uri": "https://localhost:8080/"
        },
        "id": "sujiorHRzuSV",
        "outputId": "847e21dd-047c-4c4a-8d62-7fceb8fccc7c"
      },
      "source": [
        "from sklearn.linear_model import LogisticRegression\n",
        "\n",
        "log_reg=LogisticRegression(solver='liblinear', C=10) #C가 클수록 규제 감소\n",
        "log_reg.fit(X,y)"
      ],
      "execution_count": 14,
      "outputs": [
        {
          "output_type": "execute_result",
          "data": {
            "text/plain": [
              "LogisticRegression(C=10, class_weight=None, dual=False, fit_intercept=True,\n",
              "                   intercept_scaling=1, l1_ratio=None, max_iter=100,\n",
              "                   multi_class='auto', n_jobs=None, penalty='l2',\n",
              "                   random_state=None, solver='liblinear', tol=0.0001, verbose=0,\n",
              "                   warm_start=False)"
            ]
          },
          "metadata": {},
          "execution_count": 14
        }
      ]
    },
    {
      "cell_type": "code",
      "metadata": {
        "colab": {
          "base_uri": "https://localhost:8080/"
        },
        "id": "5gjaPz-kzuUr",
        "outputId": "8cbe4435-e3ae-4128-ac2f-575786db4f63"
      },
      "source": [
        "log_reg.predict([[30,70],[50,90]])"
      ],
      "execution_count": 15,
      "outputs": [
        {
          "output_type": "execute_result",
          "data": {
            "text/plain": [
              "array([0, 1])"
            ]
          },
          "metadata": {},
          "execution_count": 15
        }
      ]
    },
    {
      "cell_type": "code",
      "metadata": {
        "id": "oihbOPIyzuXK"
      },
      "source": [
        "x_min,x_max=X[:,0].min(),X[:,0].max()\n",
        "y_min,y_max=X[:,1].min(),X[:,1].max()\n",
        "h=.2\n",
        "xx,yy=np.meshgrid(np.arange(x_min,x_max,h),np.arange(y_min,y_max,h))\n",
        "Z=log_reg.predict(np.c_[xx.ravel(),yy.ravel()])"
      ],
      "execution_count": 17,
      "outputs": []
    },
    {
      "cell_type": "code",
      "metadata": {
        "colab": {
          "base_uri": "https://localhost:8080/",
          "height": 262
        },
        "id": "vVngcQxzzuZf",
        "outputId": "4644ff81-db53-4d08-9022-22a8268361ad"
      },
      "source": [
        "Z=Z.reshape(xx.shape)\n",
        "plt.figure(1)\n",
        "plt.pcolormesh(xx,yy,Z,cmap=plt.cm.Paired)\n",
        "\n",
        "plt.plot(X[pos,0].reshape(-1),X[pos,1].reshape(-1),'b+',label='passed')\n",
        "plt.plot(X[neg,0].reshape(-1),X[neg,1].reshape(-1),'ro',label='NOT passed')\n",
        "plt.xlabel(\"Microchip Test1\")\n",
        "plt.ylabel(\"Microchip Test2\")\n",
        "plt.legend(loc='upper right')\n",
        "\n",
        "plt.xlim(xx.min(),xx.max())\n",
        "plt.ylim(yy.min(),yy.max())\n",
        "plt.xticks(())\n",
        "plt.yticks(())\n",
        "\n",
        "plt.show()"
      ],
      "execution_count": 18,
      "outputs": [
        {
          "output_type": "display_data",
          "data": {
            "image/png": "[encoded data removed]",
            "text/plain": [
              "<Figure size 432x288 with 1 Axes>"
            ]
          },
          "metadata": {}
        }
      ]
    },
    {
      "cell_type": "markdown",
      "metadata": {
        "id": "BkiJTO7L7K7c"
      },
      "source": [
        "## 2.로지스틱 회귀+정규화\n"
      ]
    },
    {
      "cell_type": "code",
      "metadata": {
        "colab": {
          "base_uri": "https://localhost:8080/"
        },
        "id": "YZZ_MMUrzubl",
        "outputId": "1a789b50-2169-4944-a54e-c41e391aee87"
      },
      "source": [
        "import numpy as np\n",
        "import pandas as pd\n",
        "data=pd.read_csv('/content/drive/MyDrive/기계학습/qa.txt',names=['t1','t2','passed'])\n",
        "print(data)\n",
        "X=np.c_[data['t1'],data['t2']]#점수\n",
        "y=data['passed']\n",
        "m=len(data)\n",
        "print(X.shape, y.shape)"
      ],
      "execution_count": 19,
      "outputs": [
        {
          "output_type": "stream",
          "name": "stdout",
          "text": [
            "           t1        t2  passed\n",
            "0    0.051267  0.699560       1\n",
            "1   -0.092742  0.684940       1\n",
            "2   -0.213710  0.692250       1\n",
            "3   -0.375000  0.502190       1\n",
            "4   -0.513250  0.465640       1\n",
            "..        ...       ...     ...\n",
            "113 -0.720620  0.538740       0\n",
            "114 -0.593890  0.494880       0\n",
            "115 -0.484450  0.999270       0\n",
            "116 -0.006336  0.999270       0\n",
            "117  0.632650 -0.030612       0\n",
            "\n",
            "[118 rows x 3 columns]\n",
            "(118, 2) (118,)\n"
          ]
        }
      ]
    },
    {
      "cell_type": "code",
      "metadata": {
        "colab": {
          "base_uri": "https://localhost:8080/"
        },
        "id": "t2FxROV37KhS",
        "outputId": "22b55145-d1a1-4250-bc10-86cb3ec0e246"
      },
      "source": [
        "pos=[]\n",
        "neg=[]\n",
        "for (i,val) in enumerate(y):\n",
        "  if val==1:\n",
        "    pos.append(i)\n",
        "  else:\n",
        "    neg.append(i)\n",
        "print(pos)\n",
        "print(neg)"
      ],
      "execution_count": 20,
      "outputs": [
        {
          "output_type": "stream",
          "name": "stdout",
          "text": [
            "[0, 1, 2, 3, 4, 5, 6, 7, 8, 9, 10, 11, 12, 13, 14, 15, 16, 17, 18, 19, 20, 21, 22, 23, 24, 25, 26, 27, 28, 29, 30, 31, 32, 33, 34, 35, 36, 37, 38, 39, 40, 41, 42, 43, 44, 45, 46, 47, 48, 49, 50, 51, 52, 53, 54, 55, 56, 57]\n",
            "[58, 59, 60, 61, 62, 63, 64, 65, 66, 67, 68, 69, 70, 71, 72, 73, 74, 75, 76, 77, 78, 79, 80, 81, 82, 83, 84, 85, 86, 87, 88, 89, 90, 91, 92, 93, 94, 95, 96, 97, 98, 99, 100, 101, 102, 103, 104, 105, 106, 107, 108, 109, 110, 111, 112, 113, 114, 115, 116, 117]\n"
          ]
        }
      ]
    },
    {
      "cell_type": "code",
      "metadata": {
        "colab": {
          "base_uri": "https://localhost:8080/",
          "height": 279
        },
        "id": "nP4he_zzzueG",
        "outputId": "38cc65dd-e3f8-4e59-882b-e2a7f2df3f3f"
      },
      "source": [
        "import matplotlib.pyplot as plt\n",
        "plt.plot(X[pos,0].reshape(-1),X[pos,1].reshape(-1),'b+',label='passed')\n",
        "plt.plot(X[neg,0].reshape(-1),X[neg,1].reshape(-1),'ro',label='failed')\n",
        "plt.xlabel(\"Microchip Test1\")\n",
        "plt.ylabel(\"Microchip Test2\")\n",
        "plt.legend(loc='upper right')\n",
        "plt.show()"
      ],
      "execution_count": 21,
      "outputs": [
        {
          "output_type": "display_data",
          "data": {
            "image/png": "[encoded data removed]",
            "text/plain": [
              "<Figure size 432x288 with 1 Axes>"
            ]
          },
          "metadata": {
            "needs_background": "light"
          }
        }
      ]
    },
    {
      "cell_type": "code",
      "metadata": {
        "colab": {
          "base_uri": "https://localhost:8080/"
        },
        "id": "MexWQcNmzuf7",
        "outputId": "48248c41-242b-4127-b9d0-2c9af4a0bb02"
      },
      "source": [
        "from sklearn.preprocessing import PolynomialFeatures\n",
        "degree=6\n",
        "poly_features= PolynomialFeatures(degree=degree,include_bias=False)\n",
        "X_poly=poly_features.fit_transform(X)\n",
        "\n",
        "print(X[0])\n",
        "print(X_poly[0])\n",
        "print(X_poly[0].shape)"
      ],
      "execution_count": 23,
      "outputs": [
        {
          "output_type": "stream",
          "name": "stdout",
          "text": [
            "[0.051267 0.69956 ]\n",
            "[5.12670000e-02 6.99560000e-01 2.62830529e-03 3.58643425e-02\n",
            " 4.89384194e-01 1.34745327e-04 1.83865725e-03 2.50892595e-02\n",
            " 3.42353606e-01 6.90798869e-06 9.42624411e-05 1.28625106e-03\n",
            " 1.75514423e-02 2.39496889e-01 3.54151856e-07 4.83255257e-06\n",
            " 6.59422333e-05 8.99809795e-04 1.22782870e-02 1.67542444e-01\n",
            " 1.81563032e-08 2.47750473e-07 3.38066048e-06 4.61305487e-05\n",
            " 6.29470940e-04 8.58939846e-03 1.17205992e-01]\n",
            "(27,)\n"
          ]
        }
      ]
    },
    {
      "cell_type": "code",
      "metadata": {
        "colab": {
          "base_uri": "https://localhost:8080/"
        },
        "id": "b42YJpsZE_0N",
        "outputId": "3d29a291-932c-4eb1-8ec5-ac814f87acec"
      },
      "source": [
        "from sklearn.linear_model import LogisticRegression\n",
        "\n",
        "log_reg=LogisticRegression(penalty='l2',solver='liblinear',C=1e-1)\n",
        "log_reg.fit(X_poly,y)"
      ],
      "execution_count": 24,
      "outputs": [
        {
          "output_type": "execute_result",
          "data": {
            "text/plain": [
              "LogisticRegression(C=0.1, class_weight=None, dual=False, fit_intercept=True,\n",
              "                   intercept_scaling=1, l1_ratio=None, max_iter=100,\n",
              "                   multi_class='auto', n_jobs=None, penalty='l2',\n",
              "                   random_state=None, solver='liblinear', tol=0.0001, verbose=0,\n",
              "                   warm_start=False)"
            ]
          },
          "metadata": {},
          "execution_count": 24
        }
      ]
    },
    {
      "cell_type": "code",
      "metadata": {
        "id": "8glTDNESE_2O"
      },
      "source": [
        "u=np.linspace(-1,1.5,300)\n",
        "v=np.linspace(-1,1.5,300)\n",
        "z=np.zeros((len(u),len(v)))\n",
        "for i in range(len(u)):\n",
        "  a=[]\n",
        "  for j in range(len(v)):\n",
        "    a.append(np.array([u[i],v[j]]))\n",
        "\n",
        "  my_data=poly_features.fit_transform(a)\n",
        "  z[i]=log_reg.predict(my_data)\n"
      ],
      "execution_count": 28,
      "outputs": []
    },
    {
      "cell_type": "code",
      "metadata": {
        "colab": {
          "base_uri": "https://localhost:8080/",
          "height": 338
        },
        "id": "1snYkH6jE_-2",
        "outputId": "e3218697-63a6-4627-cbf9-70b7b6b69b75"
      },
      "source": [
        "plt.contour(u,v,z,0)\n",
        "\n",
        "plt.plot(X[pos,0].reshape(-1),X[pos,1].reshape(-1),'b+',label='passed')\n",
        "plt.plot(X[neg,0].reshape(-1),X[neg,1].reshape(-1),'ro',label='Failed')\n",
        "plt.xlabel(\"Microchip Test1\")\n",
        "plt.ylabel(\"Microchip Test2\")\n",
        "plt.legend(loc='upper right')\n",
        "plt.show()"
      ],
      "execution_count": 30,
      "outputs": [
        {
          "output_type": "stream",
          "name": "stderr",
          "text": [
            "/usr/local/lib/python3.7/dist-packages/ipykernel_launcher.py:1: UserWarning: No contour levels were found within the data range.\n",
            "  \"\"\"Entry point for launching an IPython kernel.\n"
          ]
        },
        {
          "output_type": "display_data",
          "data": {
            "image/png": "[encoded data removed]",
            "text/plain": [
              "<Figure size 432x288 with 1 Axes>"
            ]
          },
          "metadata": {
            "needs_background": "light"
          }
        }
      ]
    },
    {
      "cell_type": "code",
      "metadata": {
        "colab": {
          "base_uri": "https://localhost:8080/",
          "height": 434
        },
        "id": "gqEBQ0oTGlyN",
        "outputId": "cb5d4f8d-34eb-4b5d-a7d0-3a61100eb870"
      },
      "source": [
        "#1.Y값 예측\n",
        "y_pred=log_reg.predict(X_poly)\n",
        "print(y_pred)\n",
        "\n",
        "#2.confusion matrix\n",
        "from sklearn.metrics import confusion_matrix\n",
        "conf_mat=confusion_matrix(y,y_pred)\n",
        "print(conf_mat)\n",
        "plt.matshow(conf_mat,cmap=plt.cm.gray)\n",
        "plt.show()\n",
        "\n",
        "#3.precision &&recall\n",
        "from sklearn.metrics import precision_score,recall_score\n",
        "print(\"precision_score:\",precision_score(y,y_pred))\n",
        "print(\"recall score:\",recall_score(y,y_pred))\n",
        "\n",
        "#4.F1 score\n",
        "from sklearn.metrics import f1_score\n",
        "print(\"F1_score:\",f1_score(y,y_pred))"
      ],
      "execution_count": 34,
      "outputs": [
        {
          "output_type": "stream",
          "name": "stdout",
          "text": [
            "[1 1 1 1 1 1 1 1 1 1 0 0 0 0 0 1 1 0 1 1 1 1 1 1 1 1 0 0 1 0 0 0 1 1 1 1 1\n",
            " 1 1 1 1 1 0 1 0 1 0 1 0 0 1 1 1 1 1 1 1 1 0 0 1 0 0 0 0 0 0 0 0 0 0 0 0 0\n",
            " 0 0 1 0 0 0 1 1 1 1 0 0 0 0 1 0 0 0 0 0 0 0 0 0 0 0 0 0 1 0 1 1 1 1 1 0 0\n",
            " 0 0 0 1 0 0 0]\n",
            "[[46 14]\n",
            " [16 42]]\n"
          ]
        },
        {
          "output_type": "display_data",
          "data": {
            "image/png": "[encoded data removed]",
            "text/plain": [
              "<Figure size 288x288 with 1 Axes>"
            ]
          },
          "metadata": {
            "needs_background": "light"
          }
        },
        {
          "output_type": "stream",
          "name": "stdout",
          "text": [
            "precision_score: 0.75\n",
            "recall score: 0.7241379310344828\n",
            "F1_score: 0.736842105263158\n"
          ]
        }
      ]
    }
  ]
}