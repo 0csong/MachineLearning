{
 "cells": [
  {
   "cell_type": "code",
   "execution_count": 1,
   "metadata": {
    "colab": {
     "base_uri": "https://localhost:8080/"
    },
    "id": "otMQQL_DK9xM",
    "outputId": "783c66c2-2f50-4151-9c1e-e93d70e9211e"
   },
   "outputs": [
    {
     "name": "stdout",
     "output_type": "stream",
     "text": [
      "Mounted at /content/drive\n"
     ]
    }
   ],
   "source": [
    "from google.colab import drive\n",
    "drive.mount('/content/drive')"
   ]
  },
  {
   "cell_type": "code",
   "execution_count": 5,
   "metadata": {
    "colab": {
     "base_uri": "https://localhost:8080/"
    },
    "id": "b5zMZo1BLGaI",
    "outputId": "316ad41a-d656-4afe-b227-6b6f6252b4d3"
   },
   "outputs": [
    {
     "name": "stdout",
     "output_type": "stream",
     "text": [
      "    size  n_room   price\n",
      "0   2104       3  399900\n",
      "1   1600       3  329900\n",
      "2   2400       3  369000\n",
      "3   1416       2  232000\n",
      "4   3000       4  539900\n",
      "5   1985       4  299900\n",
      "6   1534       3  314900\n",
      "7   1427       3  198999\n",
      "8   1380       3  212000\n",
      "9   1494       3  242500\n",
      "10  1940       4  239999\n",
      "11  2000       3  347000\n",
      "12  1890       3  329999\n",
      "13  4478       5  699900\n",
      "14  1268       3  259900\n",
      "15  2300       4  449900\n",
      "16  1320       2  299900\n",
      "17  1236       3  199900\n",
      "18  2609       4  499998\n",
      "19  3031       4  599000\n",
      "20  1767       3  252900\n",
      "21  1888       2  255000\n",
      "22  1604       3  242900\n",
      "23  1962       4  259900\n",
      "24  3890       3  573900\n",
      "25  1100       3  249900\n",
      "26  1458       3  464500\n",
      "27  2526       3  469000\n",
      "28  2200       3  475000\n",
      "29  2637       3  299900\n",
      "30  1839       2  349900\n",
      "31  1000       1  169900\n",
      "32  2040       4  314900\n",
      "33  3137       3  579900\n",
      "34  1811       4  285900\n",
      "35  1437       3  249900\n",
      "36  1239       3  229900\n",
      "37  2132       4  345000\n",
      "38  4215       4  549000\n",
      "39  2162       4  287000\n",
      "40  1664       2  368500\n",
      "41  2238       3  329900\n",
      "42  2567       4  314000\n",
      "43  1200       3  299000\n",
      "44   852       2  179900\n",
      "45  1852       4  299900\n",
      "46  1203       3  239500\n"
     ]
    }
   ],
   "source": [
    "import numpy as np\n",
    "import pandas as pd\n",
    "\n",
    "\n",
    "data = pd.read_csv(\"/content/drive/MyDrive/기계학습/house_price_us.txt\", names = ['size', 'n_room', 'price'])\n",
    "print(data)\n",
    "\n",
    "x=np.c_[data['size'],data['n_room']]\n",
    "y = data['price']\n",
    "m=len(data)"
   ]
  },
  {
   "cell_type": "code",
   "execution_count": 20,
   "metadata": {
    "colab": {
     "base_uri": "https://localhost:8080/"
    },
    "id": "bDeeU5weOdFG",
    "outputId": "1ff60894-f3dd-40a5-a841-2bd6f249fa12"
   },
   "outputs": [
    {
     "name": "stdout",
     "output_type": "stream",
     "text": [
      "(47, 2) (47, 1)\n"
     ]
    }
   ],
   "source": [
    "x = (np.array(x)).reshape(m,2)\n",
    "y = (np.array(y)).reshape(m,1)\n",
    "print(x.shape, y.shape)"
   ]
  },
  {
   "cell_type": "markdown",
   "metadata": {
    "id": "AKpaAi6gO4ZJ"
   },
   "source": [
    "## 그래프 그리기"
   ]
  },
  {
   "cell_type": "code",
   "execution_count": 21,
   "metadata": {
    "colab": {
     "base_uri": "https://localhost:8080/",
     "height": 541
    },
    "id": "0IJhluU4LGcv",
    "outputId": "5b66b077-3a58-4bdd-aed5-7138a8d4a1ed"
   },
   "outputs": [
    {
     "data": {
      "image/png": "[encoded data removed]",
      "text/plain": [
       "<Figure size 432x288 with 1 Axes>"
      ]
     },
     "metadata": {
      "needs_background": "light"
     },
     "output_type": "display_data"
    },
    {
     "data": {
      "image/png": "[encoded data removed]",
      "text/plain": [
       "<Figure size 432x288 with 1 Axes>"
      ]
     },
     "metadata": {
      "needs_background": "light"
     },
     "output_type": "display_data"
    }
   ],
   "source": [
    "import matplotlib.pyplot as plt\n",
    "\n",
    "plt.plot(x[:,0].reshape(-1),y,'b.')\n",
    "plt.xlabel(\"size of a house in ft^2\")\n",
    "plt.xlabel(\"price in uck-won\")\n",
    "plt.show()\n",
    "\n",
    "plt.plot(x[:,1].reshape(-1),y,'b.')\n",
    "plt.xlabel(\"# fo rooms\")\n",
    "plt.xlabel(\"price in uck-won\")\n",
    "plt.show()"
   ]
  },
  {
   "cell_type": "markdown",
   "metadata": {
    "id": "zj6v71eYO-GJ"
   },
   "source": [
    "## Feature scaling"
   ]
  },
  {
   "cell_type": "code",
   "execution_count": 22,
   "metadata": {
    "id": "a1kV4-rcLGe6"
   },
   "outputs": [],
   "source": [
    "def featureNomalize(x):\n",
    "    mu = np.mean(x,axis=0)\n",
    "    std = np.std(x,axis=0)\n",
    "    \n",
    "    x_norm = (x-mu)/std\n",
    "    \n",
    "    return x_norm, mu, std"
   ]
  },
  {
   "cell_type": "code",
   "execution_count": 23,
   "metadata": {
    "colab": {
     "base_uri": "https://localhost:8080/"
    },
    "id": "kT4rZeweLGhT",
    "outputId": "331039ef-6ed5-4073-e875-9f31cd64c22e"
   },
   "outputs": [
    {
     "name": "stdout",
     "output_type": "stream",
     "text": [
      "(47, 2)\n"
     ]
    }
   ],
   "source": [
    "x,mu,std = featureNomalize(x)\n",
    "print(x.shape)"
   ]
  },
  {
   "cell_type": "code",
   "execution_count": 24,
   "metadata": {
    "colab": {
     "base_uri": "https://localhost:8080/"
    },
    "id": "m9yiohlYLGjY",
    "outputId": "6e3a6ce3-4db9-4ce7-fae9-876dd23d722e"
   },
   "outputs": [
    {
     "name": "stdout",
     "output_type": "stream",
     "text": [
      "theta\n",
      "[[340307.35743496]\n",
      " [107757.4596521 ]\n",
      " [ -4888.3387115 ]]\n"
     ]
    }
   ],
   "source": [
    "x_b = np.c_[np.ones((m,1)),x]\n",
    "\n",
    "learning_rate = 0.01\n",
    "n_iter = 400\n",
    "\n",
    "theta = np.random.randn(3,1)\n",
    "gradients = np.zeros((3,1))\n",
    "\n",
    "for i in range(n_iter):\n",
    "    gradients = 2.0/m * x_b.T.dot(x_b.dot(theta) - y)\n",
    "    theta = theta - learning_rate * gradients\n",
    "    \n",
    "\n",
    "    \n",
    "print(\"theta\")\n",
    "print(theta)"
   ]
  },
  {
   "cell_type": "code",
   "execution_count": 26,
   "metadata": {
    "colab": {
     "base_uri": "https://localhost:8080/"
    },
    "id": "C9YTu1b1NrJ7",
    "outputId": "50203990-54d6-4204-fe32-6431104c3fbb"
   },
   "outputs": [
    {
     "name": "stdout",
     "output_type": "stream",
     "text": [
      "[[890.   2.]]\n",
      "[[96234669.77038422]] 달러\n"
     ]
    }
   ],
   "source": [
    "x_mine = np.array([[890,2]])\n",
    "x_mine = (x_mine - mu) / std\n",
    "print(x_mine)\n",
    "\n",
    "x_mine_b = np.c_[np.ones((1,1)),x_mine]\n",
    "y_predict = x_mine_b.dot(theta)\n",
    "print(y_predict,\"달러\")"
   ]
  },
  {
   "cell_type": "code",
   "execution_count": 29,
   "metadata": {
    "id": "l5gAcEq7NrVB"
   },
   "outputs": [],
   "source": [
    "import numpy as np\n",
    "import matplotlib.pyplot as plt\n",
    "%matplotlib inline"
   ]
  },
  {
   "cell_type": "code",
   "execution_count": 30,
   "metadata": {
    "id": "j0fOm0pNNrXd"
   },
   "outputs": [],
   "source": [
    "def ComputeJ(t0,t1,t2,x,y):\n",
    "    m=len(x)\n",
    "    x_b = np.c_[np.ones((m,1)),x]\n",
    "    theta = np.array([t0,t1,t2])\n",
    "    \n",
    "    cost_vector = x_b.dot(theta) - y\n",
    "    \n",
    "    cost_vector = cost_vector.reshape(-1)\n",
    "    \n",
    "    cost2 = np.square(cost_vector)\n",
    "    \n",
    "    cost_sum = np.sum(cost2)/(2*m)\n",
    "    \n",
    "    return cost_sum\n",
    "    "
   ]
  },
  {
   "cell_type": "code",
   "execution_count": 32,
   "metadata": {
    "colab": {
     "base_uri": "https://localhost:8080/"
    },
    "id": "YLQ7o71mNrZv",
    "outputId": "23606f70-d1f5-4569-ea0c-9395bbc4b597"
   },
   "outputs": [
    {
     "name": "stdout",
     "output_type": "stream",
     "text": [
      "(47, 2) (47, 1)\n",
      "(47, 2)\n"
     ]
    }
   ],
   "source": [
    "x=np.c_[data['size'],data['n_room']]\n",
    "y = data['price']\n",
    "m=len(data)\n",
    "\n",
    "x = (np.array(x)).reshape(m,2)\n",
    "y = (np.array(y)).reshape(m,1)\n",
    "print (x.shape, y.shape)\n",
    "\n",
    "x,mu,std = featureNomalize(x)\n",
    "print (x.shape)"
   ]
  },
  {
   "cell_type": "code",
   "execution_count": 33,
   "metadata": {
    "colab": {
     "base_uri": "https://localhost:8080/"
    },
    "id": "lappe1xCPPne",
    "outputId": "e6388b52-7154-4771-8b35-bf3334400c30"
   },
   "outputs": [
    {
     "name": "stdout",
     "output_type": "stream",
     "text": [
      "theta\n",
      "[[340307.35758669]\n",
      " [107757.48128874]\n",
      " [ -4888.36034509]]\n"
     ]
    }
   ],
   "source": [
    "x_b = np.c_[np.ones((m,1)),x]\n",
    "\n",
    "learning_rate = 0.01\n",
    "n_iter = 400\n",
    "\n",
    "theta = np.random.randn(3,1)\n",
    "gradients = np.zeros((3,1))\n",
    "\n",
    "itr_arr = []\n",
    "cost_arr = []\n",
    "\n",
    "for i in range(n_iter):\n",
    "    gradients = 2.0/m * x_b.T.dot(x_b.dot(theta) - y)\n",
    "    theta = theta - learning_rate * gradients\n",
    "    \n",
    "    \n",
    "    cost = ComputeJ(theta[0],theta[1],theta[2],x,y)\n",
    "    cost_arr.append(cost)\n",
    "    itr_arr.append(i)\n",
    "print(\"theta\")\n",
    "print(theta)"
   ]
  },
  {
   "cell_type": "code",
   "execution_count": 34,
   "metadata": {
    "colab": {
     "base_uri": "https://localhost:8080/",
     "height": 290
    },
    "id": "sDbe84RlPPpj",
    "outputId": "1296663a-58f5-4e9a-837f-a3039473247f"
   },
   "outputs": [
    {
     "data": {
      "image/png": "[encoded data removed]",
      "text/plain": [
       "<Figure size 432x288 with 1 Axes>"
      ]
     },
     "metadata": {
      "needs_background": "light"
     },
     "output_type": "display_data"
    }
   ],
   "source": [
    "plt.plot(itr_arr,cost_arr)\n",
    "plt.xlabel(\"number of iteration\")\n",
    "plt.xlabel(\"cost J\")\n",
    "plt.show()"
   ]
  }
 ],
 "metadata": {
  "colab": {
   "collapsed_sections": [],
   "name": "다항선형회귀.ipynb",
   "provenance": []
  },
  "kernelspec": {
   "display_name": "Python 3",
   "language": "python",
   "name": "python3"
  },
  "language_info": {
   "codemirror_mode": {
    "name": "ipython",
    "version": 3
   },
   "file_extension": ".py",
   "mimetype": "text/x-python",
   "name": "python",
   "nbconvert_exporter": "python",
   "pygments_lexer": "ipython3",
   "version": "3.8.8"
  }
 },
 "nbformat": 4,
 "nbformat_minor": 1
}
